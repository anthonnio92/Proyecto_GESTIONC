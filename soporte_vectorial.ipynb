{
 "cells": [
  {
   "cell_type": "code",
   "execution_count": 1,
   "metadata": {},
   "outputs": [
    {
     "ename": "ModuleNotFoundError",
     "evalue": "No module named 'pandas'",
     "output_type": "error",
     "traceback": [
      "\u001b[1;31m---------------------------------------------------------------------------\u001b[0m",
      "\u001b[1;31mModuleNotFoundError\u001b[0m                       Traceback (most recent call last)",
      "\u001b[1;32mc:\\Users\\yeidy\\Desktop\\MAESTRIA\\GC\\Proyecto_GESTIONC\\soporte_vectorial.ipynb Cell 1\u001b[0m line \u001b[0;36m1\n\u001b[1;32m----> <a href='vscode-notebook-cell:/c%3A/Users/yeidy/Desktop/MAESTRIA/GC/Proyecto_GESTIONC/soporte_vectorial.ipynb#W0sZmlsZQ%3D%3D?line=0'>1</a>\u001b[0m \u001b[39mfrom\u001b[39;00m \u001b[39mcleanning_data\u001b[39;00m \u001b[39mimport\u001b[39;00m cleanning_data\n\u001b[0;32m      <a href='vscode-notebook-cell:/c%3A/Users/yeidy/Desktop/MAESTRIA/GC/Proyecto_GESTIONC/soporte_vectorial.ipynb#W0sZmlsZQ%3D%3D?line=1'>2</a>\u001b[0m \u001b[39mfrom\u001b[39;00m \u001b[39mdatetime\u001b[39;00m \u001b[39mimport\u001b[39;00m datetime\n\u001b[0;32m      <a href='vscode-notebook-cell:/c%3A/Users/yeidy/Desktop/MAESTRIA/GC/Proyecto_GESTIONC/soporte_vectorial.ipynb#W0sZmlsZQ%3D%3D?line=3'>4</a>\u001b[0m frame \u001b[39m=\u001b[39m cleanning_data\u001b[39m.\u001b[39mdf\n",
      "File \u001b[1;32mc:\\Users\\yeidy\\Desktop\\MAESTRIA\\GC\\Proyecto_GESTIONC\\cleanning_data\\cleanning_data.py:1\u001b[0m\n\u001b[1;32m----> 1\u001b[0m \u001b[39mimport\u001b[39;00m \u001b[39mpandas\u001b[39;00m \u001b[39mas\u001b[39;00m \u001b[39mpd\u001b[39;00m\n\u001b[0;32m      2\u001b[0m \u001b[39mimport\u001b[39;00m \u001b[39mglob\u001b[39;00m\n\u001b[0;32m      3\u001b[0m \u001b[39mimport\u001b[39;00m \u001b[39mos\u001b[39;00m\n",
      "\u001b[1;31mModuleNotFoundError\u001b[0m: No module named 'pandas'"
     ]
    }
   ],
   "source": [
    "from cleanning_data import cleanning_data\n",
    "from datetime import datetime\n",
    "\n",
    "frame = cleanning_data.df\n",
    "frame\n",
    "\n"
   ]
  },
  {
   "cell_type": "code",
   "execution_count": null,
   "metadata": {},
   "outputs": [],
   "source": [
    "for fecha in frame.fecha_entrega:\n",
    "    frame[\"fecha_entregasmpt\"] = datetime.fromisoformat(str(fecha)).timestamp()\n",
    "    \n",
    "for fecha in frame.fecha_ultima:\n",
    "    frame[\"fecha_ultimampt\"] = datetime.fromisoformat(str(fecha)).timestamp()\n",
    "    \n",
    "for fecha in frame.fecha_penultima:\n",
    "    frame[\"fecha_penultimampt\"] = datetime.fromisoformat(str(fecha)).timestamp()\n",
    "    \n",
    "for fecha in frame.fecha_antepenultima:\n",
    "    frame[\"fecha_antepenultimampt\"] = datetime.fromisoformat(str(fecha)).timestamp()\n",
    "    \n",
    "print(frame[[\"fecha_entregasmpt\", \"fecha_ultimampt\", \"fecha_penultimampt\", \"fecha_antepenultimampt\"]])\n",
    "\n",
    "X = frame[[\"fecha_entregasmpt\", \"fecha_ultimampt\", \"fecha_penultimampt\", \"fecha_antepenultimampt\", \"kms_ultima\", \"kms_penultima\", \"kms_antepenultima\"]]\n",
    "y = frame[\"dias_para_5000\"]"
   ]
  },
  {
   "cell_type": "code",
   "execution_count": null,
   "metadata": {},
   "outputs": [],
   "source": [
    "from sklearn.model_selection import train_test_split\n",
    "\n",
    "x_train, x_test, y_train, y_test = train_test_split(X, y, test_size=0.3)"
   ]
  }
 ],
 "metadata": {
  "kernelspec": {
   "display_name": "Python 3",
   "language": "python",
   "name": "python3"
  },
  "language_info": {
   "codemirror_mode": {
    "name": "ipython",
    "version": 3
   },
   "file_extension": ".py",
   "mimetype": "text/x-python",
   "name": "python",
   "nbconvert_exporter": "python",
   "pygments_lexer": "ipython3",
   "version": "3.11.6"
  }
 },
 "nbformat": 4,
 "nbformat_minor": 2
}
