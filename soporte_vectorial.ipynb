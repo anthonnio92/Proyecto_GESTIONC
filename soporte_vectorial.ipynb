{
 "cells": [
  {
   "cell_type": "code",
   "execution_count": 1,
   "metadata": {},
   "outputs": [
    {
     "ename": "ModuleNotFoundError",
     "evalue": "No module named 'pandas'",
     "output_type": "error",
     "traceback": [
      "\u001b[1;31m---------------------------------------------------------------------------\u001b[0m",
      "\u001b[1;31mModuleNotFoundError\u001b[0m                       Traceback (most recent call last)",
      "\u001b[1;32mc:\\Users\\yeidy\\Desktop\\MAESTRIA\\GC\\Proyecto_GESTIONC\\soporte_vectorial.ipynb Cell 1\u001b[0m line \u001b[0;36m1\n\u001b[1;32m----> <a href='vscode-notebook-cell:/c%3A/Users/yeidy/Desktop/MAESTRIA/GC/Proyecto_GESTIONC/soporte_vectorial.ipynb#W0sZmlsZQ%3D%3D?line=0'>1</a>\u001b[0m \u001b[39mfrom\u001b[39;00m \u001b[39mcleanning_data\u001b[39;00m \u001b[39mimport\u001b[39;00m cleanning_data\n\u001b[0;32m      <a href='vscode-notebook-cell:/c%3A/Users/yeidy/Desktop/MAESTRIA/GC/Proyecto_GESTIONC/soporte_vectorial.ipynb#W0sZmlsZQ%3D%3D?line=1'>2</a>\u001b[0m \u001b[39mfrom\u001b[39;00m \u001b[39mdatetime\u001b[39;00m \u001b[39mimport\u001b[39;00m datetime\n\u001b[0;32m      <a href='vscode-notebook-cell:/c%3A/Users/yeidy/Desktop/MAESTRIA/GC/Proyecto_GESTIONC/soporte_vectorial.ipynb#W0sZmlsZQ%3D%3D?line=3'>4</a>\u001b[0m frame \u001b[39m=\u001b[39m cleanning_data\u001b[39m.\u001b[39mdf\n",
      "File \u001b[1;32mc:\\Users\\yeidy\\Desktop\\MAESTRIA\\GC\\Proyecto_GESTIONC\\cleanning_data\\cleanning_data.py:1\u001b[0m\n\u001b[1;32m----> 1\u001b[0m \u001b[39mimport\u001b[39;00m \u001b[39mpandas\u001b[39;00m \u001b[39mas\u001b[39;00m \u001b[39mpd\u001b[39;00m\n\u001b[0;32m      2\u001b[0m \u001b[39mimport\u001b[39;00m \u001b[39mglob\u001b[39;00m\n\u001b[0;32m      3\u001b[0m \u001b[39mimport\u001b[39;00m \u001b[39mos\u001b[39;00m\n",
      "\u001b[1;31mModuleNotFoundError\u001b[0m: No module named 'pandas'"
     ]
    }
   ],
   "source": [
    "from cleanning_data import cleanning_data\n",
    "from datetime import datetime\n",
    "\n",
    "frame = cleanning_data.df\n",
    "frame\n",
    "\n"
   ]
  },
  {
   "cell_type": "code",
   "execution_count": null,
   "metadata": {},
   "outputs": [],
   "source": [
    "for fecha in frame.fecha_entrega:\n",
    "    frame[\"fecha_entregasmpt\"] = datetime.fromisoformat(str(fecha)).timestamp()\n",
    "    \n",
    "for fecha in frame.fecha_ultima:\n",
    "    frame[\"fecha_ultimampt\"] = datetime.fromisoformat(str(fecha)).timestamp()\n",
    "    \n",
    "for fecha in frame.fecha_penultima:\n",
    "    frame[\"fecha_penultimampt\"] = datetime.fromisoformat(str(fecha)).timestamp()\n",
    "    \n",
    "for fecha in frame.fecha_antepenultima:\n",
    "    frame[\"fecha_antepenultimampt\"] = datetime.fromisoformat(str(fecha)).timestamp()\n",
    "    \n",
    "print(frame[[\"fecha_entregasmpt\", \"fecha_ultimampt\", \"fecha_penultimampt\", \"fecha_antepenultimampt\"]])\n",
    "\n",
    "X = frame[[\"fecha_entregasmpt\", \"fecha_ultimampt\", \"fecha_penultimampt\", \"fecha_antepenultimampt\", \"kms_ultima\", \"kms_penultima\", \"kms_antepenultima\"]]\n",
    "y = frame[\"dias_para_5000\"]"
   ]
  },
  {
   "cell_type": "code",
   "execution_count": null,
   "metadata": {},
   "outputs": [],
   "source": [
    "import numpy as np\n",
    "from sklearn.compose import ColumnTransformer\n",
    "from sklearn.compose import make_column_selector\n",
    "from sklearn.preprocessing import StandardScaler\n",
    "import pandas as pd\n",
    "\n",
    "\n",
    "ct = ColumnTransformer(\n",
    "    [\n",
    "        (\"scale\", StandardScaler(), make_column_selector(dtype_include=np.int64)),\n",
    "        (\"scale2\", StandardScaler(), make_column_selector(dtype_include=np.float64))\n",
    "    ],\n",
    "    remainder=\"drop\"\n",
    ")\n",
    "ct.fit_transform(frame)\n",
    "\n",
    "data_frame_scalado = pd.DataFrame(ct.fit_transform(frame), columns=ct.get_feature_names_out())\n",
    "\n",
    "data_frame_scalado"
   ]
  },
  {
   "cell_type": "code",
   "execution_count": null,
   "metadata": {},
   "outputs": [],
   "source": [
    "from sklearn.model_selection import train_test_split\n",
    "\n",
    "X = data_frame_scalado[[\"scale2__fecha_entregasmpt\", \"scale2__fecha_ultimampt\", \"scale2__fecha_penultimampt\", \"scale2__fecha_antepenultimampt\", \"scale__kms_ultima\", \"scale__kms_penultima\", \"scale__kms_antepenultima\"]]\n",
    "y = data_frame_scalado[\"scale__dias_para_5000\"]\n",
    "\n",
    "x_train, x_test, y_train, y_test = train_test_split(X, y, test_size=0.3)"
   ]
  },
  {
   "cell_type": "code",
   "execution_count": null,
   "metadata": {},
   "outputs": [],
   "source": [
    "from sklearn import svm\n",
    "modelo = svm.SVC(kernel='linear')\n",
    "modelo.fit(x_test,y_test)\n",
    "yf = modelo.predict(x_test)"
   ]
  }
 ],
 "metadata": {
  "kernelspec": {
   "display_name": "Python 3",
   "language": "python",
   "name": "python3"
  },
  "language_info": {
   "codemirror_mode": {
    "name": "ipython",
    "version": 3
   },
   "file_extension": ".py",
   "mimetype": "text/x-python",
   "name": "python",
   "nbconvert_exporter": "python",
   "pygments_lexer": "ipython3",
   "version": "3.10.9"
  }
 },
 "nbformat": 4,
 "nbformat_minor": 2
}
