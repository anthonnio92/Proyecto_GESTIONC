{
 "cells": [
  {
   "cell_type": "code",
   "execution_count": 13,
   "metadata": {},
   "outputs": [
    {
     "name": "stdout",
     "output_type": "stream",
     "text": [
      "       fecha_entregasmpt  fecha_ultimampt  fecha_penultimampt  \\\n",
      "0           1.420261e+09     1.420261e+09       -2.208971e+09   \n",
      "1           1.420261e+09     1.420261e+09       -2.208971e+09   \n",
      "2           1.420261e+09     1.420261e+09       -2.208971e+09   \n",
      "3           1.420261e+09     1.420261e+09       -2.208971e+09   \n",
      "4           1.420261e+09     1.420261e+09       -2.208971e+09   \n",
      "...                  ...              ...                 ...   \n",
      "11696       1.420261e+09     1.420261e+09       -2.208971e+09   \n",
      "11697       1.420261e+09     1.420261e+09       -2.208971e+09   \n",
      "11698       1.420261e+09     1.420261e+09       -2.208971e+09   \n",
      "11699       1.420261e+09     1.420261e+09       -2.208971e+09   \n",
      "11700       1.420261e+09     1.420261e+09       -2.208971e+09   \n",
      "\n",
      "       fecha_antepenultimampt  \n",
      "0               -2.208971e+09  \n",
      "1               -2.208971e+09  \n",
      "2               -2.208971e+09  \n",
      "3               -2.208971e+09  \n",
      "4               -2.208971e+09  \n",
      "...                       ...  \n",
      "11696           -2.208971e+09  \n",
      "11697           -2.208971e+09  \n",
      "11698           -2.208971e+09  \n",
      "11699           -2.208971e+09  \n",
      "11700           -2.208971e+09  \n",
      "\n",
      "[231390 rows x 4 columns]\n"
     ]
    }
   ],
   "source": [
    "from cleanning_data import cleanning_data\n",
    "from datetime import datetime\n",
    "\n",
    "frame = cleanning_data.df\n",
    "\n",
    "\n",
    "for fecha in frame.fecha_entrega:\n",
    "    frame[\"fecha_entregasmpt\"] = datetime.fromisoformat(str(fecha)).timestamp()\n",
    "    \n",
    "for fecha in frame.fecha_ultima:\n",
    "    frame[\"fecha_ultimampt\"] = datetime.fromisoformat(str(fecha)).timestamp()\n",
    "    \n",
    "for fecha in frame.fecha_penultima:\n",
    "    frame[\"fecha_penultimampt\"] = datetime.fromisoformat(str(fecha)).timestamp()\n",
    "    \n",
    "for fecha in frame.fecha_antepenultima:\n",
    "    frame[\"fecha_antepenultimampt\"] = datetime.fromisoformat(str(fecha)).timestamp()\n",
    "    \n",
    "print(frame[[\"fecha_entregasmpt\", \"fecha_ultimampt\", \"fecha_penultimampt\", \"fecha_antepenultimampt\"]])\n",
    "\n",
    "X = frame[[\"fecha_entregasmpt\", \"fecha_ultimampt\", \"fecha_penultimampt\", \"fecha_antepenultimampt\", \"kms_ultima\", \"kms_penultima\", \"kms_antepenultima\"]]\n",
    "y = frame[\"dias_para_5000\"]\n"
   ]
  },
  {
   "cell_type": "code",
   "execution_count": 15,
   "metadata": {},
   "outputs": [],
   "source": [
    "from sklearn.model_selection import train_test_split\n",
    "\n",
    "x_train, x_test, y_train, y_test = train_test_split(X, y, test_size=0.3)"
   ]
  },
  {
   "cell_type": "code",
   "execution_count": 21,
   "metadata": {},
   "outputs": [
    {
     "data": {
      "text/plain": [
       "0.005914566007914899"
      ]
     },
     "execution_count": 21,
     "metadata": {},
     "output_type": "execute_result"
    }
   ],
   "source": [
    "\n",
    "from sklearn.linear_model import Perceptron\n",
    "\n",
    "\n",
    "perceptron = Perceptron(\n",
    "    # --------------------------------------------------------------------------\n",
    "    # Specify the norm of the penalty:\n",
    "    # * None: no penalty is added.\n",
    "    # * 'l2': add a L2 penalty term and it is the default choice.\n",
    "    # * 'l1': add a L1 penalty term.\n",
    "    # * 'elasticnet': both L1 and L2 penalty terms are added.\n",
    "    penalty=None,\n",
    "    # --------------------------------------------------------------------------\n",
    "    # Constant that multiplies the regularization term if regularization is\n",
    "    # used.\n",
    "    alpha=0.001,\n",
    "    # --------------------------------------------------------------------------\n",
    "    # The Elastic Net mixing parameter, with 0 <= l1_ratio <= 1. l1_ratio=0\n",
    "    # corresponds to L2 penalty, l1_ratio=1 to L1. Only used if\n",
    "    # penalty='elasticnet'.\n",
    "    l1_ratio=0.0001,\n",
    "    # --------------------------------------------------------------------------\n",
    "    # Whether the intercept should be estimated or not. If False, the data is\n",
    "    # assumed to be already centered.\n",
    "    fit_intercept=True,\n",
    "    # --------------------------------------------------------------------------\n",
    "    # The maximum number of passes over the training data (aka epochs). It only\n",
    "    # impacts the behavior in the fit method, and not the partial_fit method.\n",
    "    max_iter=1000,\n",
    "    # --------------------------------------------------------------------------\n",
    "    # The stopping criterion. If it is not None, the iterations will stop when\n",
    "    # (loss > previous_loss - tol).\n",
    "    tol=1e-3,\n",
    "    # --------------------------------------------------------------------------\n",
    "    # Whether or not the training data should be shuffled after each epoch.\n",
    "    shuffle=True,\n",
    "    # --------------------------------------------------------------------------\n",
    "    # Constant by which the updates are multiplied.\n",
    "    eta0=1,\n",
    "    # --------------------------------------------------------------------------\n",
    "    # Used to shuffle the training data, when shuffle is set to True. Pass an\n",
    "    # int for reproducible output across multiple function calls.\n",
    "    random_state=0,\n",
    "    # --------------------------------------------------------------------------\n",
    "    # Whether to use early stopping to terminate training when validation. score\n",
    "    # is not improving. If set to True, it will automatically set aside a\n",
    "    # stratified fraction of training data as validation and terminate training\n",
    "    # when validation score is not improving by at least tol for\n",
    "    # n_iter_no_change consecutive epochs.\n",
    "    early_stopping=True,\n",
    "    # --------------------------------------------------------------------------\n",
    "    # The proportion of training data to set aside as validation set for early\n",
    "    # stopping. Must be between 0 and 1. Only used if early_stopping is True.\n",
    "    validation_fraction=0.1,\n",
    "    # --------------------------------------------------------------------------\n",
    "    # Number of iterations with no improvement to wait before early stopping.\n",
    "    n_iter_no_change=5,\n",
    "    # --------------------------------------------------------------------------\n",
    "    # Weights associated with classes. If not given, all classes are supposed to\n",
    "    # have weight one. The “balanced” mode uses the values of y to automatically\n",
    "    # adjust weights inversely proportional to class frequencies in the input\n",
    "    # data as n_samples / (n_classes * np.bincount(y)).\n",
    "    class_weight=None,\n",
    "    # --------------------------------------------------------------------------\n",
    "    # When set to True, reuse the solution of the previous call to fit as\n",
    "    # initialization, otherwise, just erase the previous solution.\n",
    "    warm_start=False,\n",
    ")\n",
    "\n",
    "perceptron.fit(x_train, y_train)\n",
    "\n",
    "perceptron.predict(x_train)\n",
    "\n",
    "perceptron.score(x_train, y_train)\n"
   ]
  }
 ],
 "metadata": {
  "kernelspec": {
   "display_name": "Python 3",
   "language": "python",
   "name": "python3"
  },
  "language_info": {
   "codemirror_mode": {
    "name": "ipython",
    "version": 3
   },
   "file_extension": ".py",
   "mimetype": "text/x-python",
   "name": "python",
   "nbconvert_exporter": "python",
   "pygments_lexer": "ipython3",
   "version": "3.10.9"
  }
 },
 "nbformat": 4,
 "nbformat_minor": 2
}
